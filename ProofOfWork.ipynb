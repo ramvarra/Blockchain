{
 "cells": [
  {
   "cell_type": "markdown",
   "metadata": {},
   "source": [
    "## Proof of Work\n",
    "\n",
    "Proof of Work involves a problem (or puzzle) with following properties\n",
    "* Computationally hard to find solution to the problem or puzzle\n",
    "* Very easy to verify the solution\n",
    "\n",
    "In the example below:\n",
    "* **Problem**:  Find an integer $i$ such that $sha256(i).hexdigest()$ contains 6 leading zeros.\n",
    "\n",
    "We will keep track current solution value and find next solution greater than current solution value."
   ]
  },
  {
   "cell_type": "code",
   "execution_count": 17,
   "metadata": {},
   "outputs": [],
   "source": [
    "import hashlib\n",
    "import random\n",
    "\n",
    "\n",
    "# check if value is valid proof_of_work solution\n",
    "def validate_solution(solution):    \n",
    "    h = hashlib.sha256(str(solution).encode()).hexdigest()\n",
    "    return h.startswith('000000')\n",
    "\n",
    "# find next solution > max_coin_value\n",
    "def solution_generator():\n",
    "    current_solution = -1\n",
    "    while True:\n",
    "        current_solution += 1\n",
    "        if validate_solution(current_solution):\n",
    "            yield current_solution\n"
   ]
  },
  {
   "cell_type": "code",
   "execution_count": null,
   "metadata": {},
   "outputs": [],
   "source": [
    "%%time\n",
    "g = solution_generator()\n",
    "solutions = [next(g) for _ in range(5)] \n",
    "print('Solutions = ', solutions)"
   ]
  },
  {
   "cell_type": "code",
   "execution_count": 16,
   "metadata": {},
   "outputs": [
    {
     "name": "stdout",
     "output_type": "stream",
     "text": [
      "Wall time: 0 ns\n"
     ]
    },
    {
     "data": {
      "text/plain": [
       "[True, True, True, True, True]"
      ]
     },
     "execution_count": 16,
     "metadata": {},
     "output_type": "execute_result"
    }
   ],
   "source": [
    "%%time\n",
    "[validate_solution(solution) for solution in solutions]"
   ]
  },
  {
   "cell_type": "code",
   "execution_count": null,
   "metadata": {
    "collapsed": true
   },
   "outputs": [],
   "source": []
  }
 ],
 "metadata": {
  "kernelspec": {
   "display_name": "Python 3",
   "language": "python",
   "name": "python3"
  },
  "language_info": {
   "codemirror_mode": {
    "name": "ipython",
    "version": 3
   },
   "file_extension": ".py",
   "mimetype": "text/x-python",
   "name": "python",
   "nbconvert_exporter": "python",
   "pygments_lexer": "ipython3",
   "version": "3.6.3"
  }
 },
 "nbformat": 4,
 "nbformat_minor": 2
}
